{
 "cells": [
  {
   "cell_type": "markdown",
   "id": "5550a840",
   "metadata": {},
   "source": [
    "## Working with Python Variables"
   ]
  },
  {
   "cell_type": "markdown",
   "id": "d67ba1a7",
   "metadata": {},
   "source": [
    "Structure of creating a variable\n",
    "[variable_name] [assignment operator] [value]\n",
    "myVar = \"blah\"\n",
    "\n",
    "### What are the data types in Python?\n",
    "1. Strings - anything inside of \" \" or ' '\n",
    "2. Booleans - true or false\n",
    "3. Integers - whole numbers, even or odd\n",
    "4. Floats - any number with a decimal\n"
   ]
  },
  {
   "cell_type": "code",
   "execution_count": 5,
   "id": "bbb8ec87",
   "metadata": {},
   "outputs": [
    {
     "name": "stdout",
     "output_type": "stream",
     "text": [
      "3.9\n"
     ]
    }
   ],
   "source": [
    "# Variable Reassignment\n",
    "\n",
    "# A student's GPA throughout high school\n",
    "student_gpa = 3.2 # Freshman year\n",
    "\n",
    "student_gpa = 3.4 # Sophomore year\n",
    "\n",
    "student_gpa = 3.7 # Junior year\n",
    "\n",
    "student_gpa = 3.9 # Senior year\n",
    "print(student_gpa) # Output would be 3.9\n",
    "\n",
    "# If you need to store all data, you would need different variables\n",
    "student_gpa_Fr = 3.2 # Freshman year\n",
    "\n",
    "student_gpa_So = 3.4 # Sophomore year\n",
    "\n",
    "student_gpa_Ju = 3.7 # Junior year\n",
    "\n",
    "student_gpa_Se = 3.9 # Senior year"
   ]
  },
  {
   "cell_type": "code",
   "execution_count": 6,
   "id": "df87589e",
   "metadata": {},
   "outputs": [
    {
     "name": "stdout",
     "output_type": "stream",
     "text": [
      "True\n"
     ]
    }
   ],
   "source": [
    "# Sports team statistics\n",
    "\n",
    "# Basketball team variables\n",
    "team_name = \"Riverside Ravens\"\n",
    "wins = 18\n",
    "losses = 7\n",
    "points_scored = 1456\n",
    "points_allowed = 1298\n",
    "leading_scorer = \"Jordan Thompson\"\n",
    "average_points_per_game = 58.2\n",
    "championship_contender = True\n",
    "\n",
    "print(championship_contender)"
   ]
  }
 ],
 "metadata": {
  "kernelspec": {
   "display_name": "Python 3",
   "language": "python",
   "name": "python3"
  },
  "language_info": {
   "codemirror_mode": {
    "name": "ipython",
    "version": 3
   },
   "file_extension": ".py",
   "mimetype": "text/x-python",
   "name": "python",
   "nbconvert_exporter": "python",
   "pygments_lexer": "ipython3",
   "version": "3.12.1"
  }
 },
 "nbformat": 4,
 "nbformat_minor": 5
}
